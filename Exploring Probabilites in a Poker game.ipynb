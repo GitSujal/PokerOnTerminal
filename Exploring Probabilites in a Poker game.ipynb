{
 "cells": [
  {
   "cell_type": "markdown",
   "metadata": {},
   "source": [
    "# Heading 1\n",
    "## Heading 2\n",
    "### Heading 3\n",
    "This is a normal text\n",
    "1. First item\n",
    "2. Second item\n"
   ]
  },
  {
   "cell_type": "code",
   "execution_count": 1,
   "metadata": {},
   "outputs": [],
   "source": [
    "# Required imports\n",
    "import heapq\n",
    "import sys\n",
    "from collections import Counter\n",
    "import numpy as np\n",
    "from Card import Card\n",
    "from Card import Player\n",
    "from PrintCard import ascii_version_of_card\n",
    "import argparse\n",
    "import pandas as pd\n",
    "import matplotlib.pyplot as plt"
   ]
  },
  {
   "cell_type": "code",
   "execution_count": 2,
   "metadata": {},
   "outputs": [
    {
     "name": "stdout",
     "output_type": "stream",
     "text": [
      "13♠\t7♠\t13♦\t9♣\t8♣\t6♥\t12♣\t14♣\t5♦\t14♥\t"
     ]
    }
   ],
   "source": [
    "'''\n",
    "Initialising a deck of cards and shuffling it.\n",
    "'''\n",
    "suits = [\"Spades\",\"Hearts\",\"Clubs\",\"Diamonds\"]\n",
    "numbers = [\"2\",\"3\",\"4\",\"5\",\"6\",\"7\",\"8\",\"9\",\"T\",\"J\",\"Q\",\"K\",\"A\"]\n",
    "deckofCards = np.empty(52,dtype=object)\n",
    "for i,suit in enumerate(suits):\n",
    "    for j,num in enumerate(numbers):\n",
    "        deckofCards[i*13+j] = Card(num,suit)\n",
    "    \n",
    "shuffledcards = np.random.choice(deckofCards,size=len(deckofCards),replace=False)\n",
    "for card in shuffledcards[:10]:\n",
    "    print(card,end=\"\\t\")"
   ]
  },
  {
   "cell_type": "code",
   "execution_count": 3,
   "metadata": {},
   "outputs": [],
   "source": [
    "def runSimulation(deckofCards,n):\n",
    "    '''\n",
    "    Function to run poker simulation\n",
    "    '''\n",
    "    ResultDict = {\n",
    "            \"OnePair\":0,\n",
    "            \"TwoPair\": 0,\n",
    "            'ThreeKind':0,\n",
    "            'Straight':0,\n",
    "            'Flush':0,\n",
    "            'FullHouse':0,\n",
    "            'FourKind':0,\n",
    "            'StraightFlush':0,\n",
    "            'RoyalFlush':0,\n",
    "            'TotalGames':0    \n",
    "        }\n",
    "    for i in range(n):\n",
    "        shuffledcards = np.random.choice(deckofCards,size=len(deckofCards),replace=False)\n",
    "        newplayer = Player(1,np.random.choice(shuffledcards,size=5,replace=False))\n",
    "        ResultDict['TotalGames']+=1\n",
    "        for key in newplayer.ResultDict.keys():\n",
    "            if newplayer.ResultDict[key]:\n",
    "                ResultDict[key]+=1\n",
    "    return ResultDict"
   ]
  },
  {
   "cell_type": "code",
   "execution_count": 4,
   "metadata": {},
   "outputs": [],
   "source": [
    "numSimulation = 1000\n",
    "ResultDict = runSimulation(deckofCards,numSimulation)"
   ]
  },
  {
   "cell_type": "code",
   "execution_count": 5,
   "metadata": {},
   "outputs": [
    {
     "data": {
      "image/png": "[encoded data removed]",
      "text/plain": [
       "<Figure size 432x288 with 1 Axes>"
      ]
     },
     "metadata": {
      "needs_background": "light"
     },
     "output_type": "display_data"
    }
   ],
   "source": [
    "# Plotting the result\n",
    "xticks = [key for key in ResultDict.keys()]\n",
    "y = [value for value in ResultDict.values()]\n",
    "plt.bar(xticks[:-1],y[:-1])\n",
    "plt.xticks(rotation=45)\n",
    "plt.show()"
   ]
  },
  {
   "cell_type": "code",
   "execution_count": 10,
   "metadata": {},
   "outputs": [
    {
     "name": "stdout",
     "output_type": "stream",
     "text": [
      "Player 1 has following cards\n",
      "┌─────────┐┌─────────┐┌─────────┐┌─────────┐┌─────────┐\n",
      "│A        ││5        ││7        ││2        ││8        │\n",
      "│         ││         ││         ││         ││         │\n",
      "│         ││         ││         ││         ││         │\n",
      "│    ♠    ││    ♥    ││    ♣    ││    ♥    ││    ♣    │\n",
      "│         ││         ││         ││         ││         │\n",
      "│         ││         ││         ││         ││         │\n",
      "│        A││        5││        7││        2││        8│\n",
      "└─────────┘└─────────┘└─────────┘└─────────┘└─────────┘\n",
      "\n",
      "Card Score: 14\n"
     ]
    }
   ],
   "source": [
    "# Distribute 5 cards to a player\n",
    "newplayer = Player(1,np.random.choice(deckofCards,size=5,replace=False))\n",
    "print(newplayer)"
   ]
  }
 ],
 "metadata": {
  "kernelspec": {
   "display_name": "Python 3",
   "language": "python",
   "name": "python3"
  },
  "language_info": {
   "codemirror_mode": {
    "name": "ipython",
    "version": 3
   },
   "file_extension": ".py",
   "mimetype": "text/x-python",
   "name": "python",
   "nbconvert_exporter": "python",
   "pygments_lexer": "ipython3",
   "version": "3.7.5"
  }
 },
 "nbformat": 4,
 "nbformat_minor": 2
}
